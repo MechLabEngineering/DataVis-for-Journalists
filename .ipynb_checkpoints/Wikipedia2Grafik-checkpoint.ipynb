{
 "metadata": {
  "name": "",
  "signature": "sha256:20b235229ce4df25ebe7ea954e5cbc9fa4925650f7ab6178e4f485ae62a88324"
 },
 "nbformat": 3,
 "nbformat_minor": 0,
 "worksheets": [
  {
   "cells": [
    {
     "cell_type": "markdown",
     "metadata": {},
     "source": [
      "![CodeWeek Logo](http://blog.slub-dresden.de/uploads/RTEmagicC_codeweek-slider.png.png)"
     ]
    },
    {
     "cell_type": "heading",
     "level": 1,
     "metadata": {},
     "source": [
      "Zusammenh\u00e4nge aus Zahlen finden.\n",
      "\n",
      "Beispiel: Wikipedia Tabelle"
     ]
    },
    {
     "cell_type": "code",
     "collapsed": false,
     "input": [
      "import pandas as pd"
     ],
     "language": "python",
     "metadata": {},
     "outputs": [],
     "prompt_number": 1
    },
    {
     "cell_type": "markdown",
     "metadata": {},
     "source": [
      "Tabelle von Wikipedia: http://de.wikipedia.org/wiki/Einwohnerentwicklung_von_Dresden#Stadtteile"
     ]
    },
    {
     "cell_type": "code",
     "collapsed": false,
     "input": [
      "wikitable='''\n",
      "{| class=\"wikitable sortable\" style=\"text-align:right;\"\n",
      "! \n",
      "! Name\n",
      "! Fl\u00e4che in km\u00b2\n",
      "! Einwohnerzahl\n",
      "! Einwohner je km\u00b2\n",
      "|-\n",
      "| OA || align=\"left\" | [[Altstadt (Ortsamtsbereich)|Altstadt]] || 17,00 || 49.432 || 2.908\n",
      "|-\n",
      "| OA || align=\"left\" | [[Blasewitz (Ortsamtsbereich)|Blasewitz]] || 14,48 || 79.292 || 5.476\n",
      "|-\n",
      "| OA || align=\"left\" | [[Cotta (Ortsamtsbereich)|Cotta]] || 19,34 || 65.535 || 3.389\n",
      "|-\n",
      "| OA || align=\"left\" | [[Klotzsche (Ortsamtsbereich)|Klotzsche]] || 27,10 || 19.839 || 732\n",
      "|- \n",
      "| OA || align=\"left\" | [[Leuben (Ortsamtsbereich)|Leuben]] || 13,05 || 37.600 || 2.881\n",
      "|-\n",
      "| OA || align=\"left\" | [[Loschwitz (Ortsamtsbereich)|Loschwitz]] || 68,84 || 19.073 || 277\n",
      "|-\n",
      "| OA || align=\"left\" | [[Neustadt (Ortsamtsbereich)|Neustadt]] || 14,85 || 40.127 || 2.702\n",
      "|-\n",
      "| OA || align=\"left\" | [[Pieschen (Ortsamtsbereich)|Pieschen]] || 16,20 || 46.595 || 2.876\n",
      "|-\n",
      "| OA || align=\"left\" | [[Plauen (Ortsamtsbereich)|Plauen]] || 15,80 || 50.145 || 3.174\n",
      "|-\n",
      "| OA || align=\"left\" | [[Prohlis (Ortsamtsbereich)|Prohlis]] || 21,10 || 54.349 || 2.576\n",
      "|-\n",
      "| OS || align=\"left\" | [[Altfranken]] || 1,28 || 1.099 || 859\n",
      "|-\n",
      "| OS || align=\"left\" | [[Cossebaude (Ortschaft)|Cossebaude]] || 8,04 || 5.324 || 662\n",
      "|-\n",
      "| OS || align=\"left\" | [[Gompitz (Ortschaft)|Gompitz]] || 11,72 || 3.053 || 260\n",
      "|-\n",
      "| OS || align=\"left\" | [[Langebr\u00fcck]] || 6,95 || 3.719 || 535\n",
      "|-\n",
      "| OS || align=\"left\" | [[Mobschatz (Ortschaft)|Mobschatz]] || 8,50 || 1.481 || 174\n",
      "|-\n",
      "| OS || align=\"left\" | [[Oberwartha]] || 2,03 || 355 || 175\n",
      "|-\n",
      "| OS || align=\"left\" | [[Sch\u00f6nborn (Dresden)|Sch\u00f6nborn]] || 5,20 || 490 || 94\n",
      "|-\n",
      "| OS || align=\"left\" | [[Sch\u00f6nfeld-Wei\u00dfig]] || 41,33 || 12.570 || 304\n",
      "|-\n",
      "| OS || align=\"left\" | [[Weixdorf (Ortschaft)|Weixdorf]] || 15,49 || 5.943 || 384\n",
      "|-class=\"sortbottom\" \n",
      "!  || align=\"left\" | Dresden || 328,30 || 496.021 || 1.511\n",
      "|}'''"
     ],
     "language": "python",
     "metadata": {},
     "outputs": [],
     "prompt_number": 2
    },
    {
     "cell_type": "markdown",
     "metadata": {},
     "source": [
      "Schreiben wir uns eine Funktion, die die Wikipedia Tabelle in eine Form bringt, die man zu einem Pandas DatenFrame speichern kann"
     ]
    },
    {
     "cell_type": "code",
     "collapsed": false,
     "input": [
      "header=[] # Array\n",
      "content=[] # Array\n",
      "\n",
      "for row in wikitable.split('\\n'): # An Umbr\u00fcchen teilen und jede Zeile durch gehen\n",
      "    #print row\n",
      "    if row.startswith('!'): # Wenn Zeile mit ! beginnt\n",
      "        header.append(row.strip('! ')) # sind es \u00dcberschriften, wo wir noch das ! weg nehmen\n",
      "\n",
      "    if row.startswith('| '): # Wenn Zeile mit | beginnt, ist es der Inhalt (Zahlen)\n",
      "        content.append(row.replace('.','').replace(',','.')) # wo wir noch etwas mit . und , korrigieren\n",
      "\n",
      "header = header[1:-1] # \u00dcberschriften selektieren (2. bis Vorletzte)\n",
      "\n",
      "daten = []\n",
      "for col in content: # Alle Spalten in content durch gehen\n",
      "    daten.append(col.split('||')[1:]) # und bei || trennen"
     ],
     "language": "python",
     "metadata": {},
     "outputs": [],
     "prompt_number": 3
    },
    {
     "cell_type": "markdown",
     "metadata": {},
     "source": [
      "`daten` sieht jetzt so aus:\n",
      "\n",
      "```\n",
      " [' align=\"left\" | [[Altstadt (Ortsamtsbereich)|Altstadt]] ',\n",
      "  ' 17.00 ',\n",
      "  ' 49432 ',\n",
      "  ' 2908'],\n",
      " [' align=\"left\" | [[Blasewitz (Ortsamtsbereich)|Blasewitz]] ',\n",
      "  ' 14.48 ',\n",
      "  ' 79292 ',\n",
      "  ' 5476'],\n",
      " ...\n",
      "```"
     ]
    },
    {
     "cell_type": "markdown",
     "metadata": {},
     "source": [
      "Jetzt f\u00fcgen wir alles zum Pandas Datenframe zusammen:\n",
      "    \n",
      "* Daten = `daten`\n",
      "* \u00dcberschriften = `header`"
     ]
    },
    {
     "cell_type": "code",
     "collapsed": false,
     "input": [
      "df = pd.DataFrame(data=daten, columns=header)\n",
      "df.head(5)"
     ],
     "language": "python",
     "metadata": {},
     "outputs": [
      {
       "html": [
        "<div style=\"max-height:1000px;max-width:1500px;overflow:auto;\">\n",
        "<table border=\"1\" class=\"dataframe\">\n",
        "  <thead>\n",
        "    <tr style=\"text-align: right;\">\n",
        "      <th></th>\n",
        "      <th>Name</th>\n",
        "      <th>Fl\u00e4che in km\u00b2</th>\n",
        "      <th>Einwohnerzahl</th>\n",
        "      <th>Einwohner je km\u00b2</th>\n",
        "    </tr>\n",
        "  </thead>\n",
        "  <tbody>\n",
        "    <tr>\n",
        "      <th>0</th>\n",
        "      <td>  align=\"left\" | [[Altstadt (Ortsamtsbereich)|A...</td>\n",
        "      <td>  17.00 </td>\n",
        "      <td>  49432 </td>\n",
        "      <td>  2908</td>\n",
        "    </tr>\n",
        "    <tr>\n",
        "      <th>1</th>\n",
        "      <td>  align=\"left\" | [[Blasewitz (Ortsamtsbereich)|...</td>\n",
        "      <td>  14.48 </td>\n",
        "      <td>  79292 </td>\n",
        "      <td>  5476</td>\n",
        "    </tr>\n",
        "    <tr>\n",
        "      <th>2</th>\n",
        "      <td>  align=\"left\" | [[Cotta (Ortsamtsbereich)|Cott...</td>\n",
        "      <td>  19.34 </td>\n",
        "      <td>  65535 </td>\n",
        "      <td>  3389</td>\n",
        "    </tr>\n",
        "    <tr>\n",
        "      <th>3</th>\n",
        "      <td>  align=\"left\" | [[Klotzsche (Ortsamtsbereich)|...</td>\n",
        "      <td>  27.10 </td>\n",
        "      <td>  19839 </td>\n",
        "      <td>   732</td>\n",
        "    </tr>\n",
        "    <tr>\n",
        "      <th>4</th>\n",
        "      <td>  align=\"left\" | [[Leuben (Ortsamtsbereich)|Leu...</td>\n",
        "      <td>  13.05 </td>\n",
        "      <td>  37600 </td>\n",
        "      <td>  2881</td>\n",
        "    </tr>\n",
        "  </tbody>\n",
        "</table>\n",
        "</div>"
       ],
       "metadata": {},
       "output_type": "pyout",
       "prompt_number": 4,
       "text": [
        "                                                Name Fl\u00e4che in km\u00b2  \\\n",
        "0   align=\"left\" | [[Altstadt (Ortsamtsbereich)|A...        17.00    \n",
        "1   align=\"left\" | [[Blasewitz (Ortsamtsbereich)|...        14.48    \n",
        "2   align=\"left\" | [[Cotta (Ortsamtsbereich)|Cott...        19.34    \n",
        "3   align=\"left\" | [[Klotzsche (Ortsamtsbereich)|...        27.10    \n",
        "4   align=\"left\" | [[Leuben (Ortsamtsbereich)|Leu...        13.05    \n",
        "\n",
        "  Einwohnerzahl Einwohner je km\u00b2  \n",
        "0        49432              2908  \n",
        "1        79292              5476  \n",
        "2        65535              3389  \n",
        "3        19839               732  \n",
        "4        37600              2881  "
       ]
      }
     ],
     "prompt_number": 4
    },
    {
     "cell_type": "markdown",
     "metadata": {},
     "source": [
      "Noch etwas die Spalte `Name` korrigieren"
     ]
    },
    {
     "cell_type": "code",
     "collapsed": false,
     "input": [
      "df['Name'] = df['Name'].map(lambda x: x.split('|')[1][3:].rstrip(']] '))\n",
      "df['Name'] = df['Name'].map(lambda x: x.replace(' (Ortsamtsbereich)', '').replace(' (Ortschaft)','').replace(' (Dresden)',''))\n",
      "df.head(5)"
     ],
     "language": "python",
     "metadata": {},
     "outputs": [
      {
       "html": [
        "<div style=\"max-height:1000px;max-width:1500px;overflow:auto;\">\n",
        "<table border=\"1\" class=\"dataframe\">\n",
        "  <thead>\n",
        "    <tr style=\"text-align: right;\">\n",
        "      <th></th>\n",
        "      <th>Name</th>\n",
        "      <th>Fl\u00e4che in km\u00b2</th>\n",
        "      <th>Einwohnerzahl</th>\n",
        "      <th>Einwohner je km\u00b2</th>\n",
        "    </tr>\n",
        "  </thead>\n",
        "  <tbody>\n",
        "    <tr>\n",
        "      <th>0</th>\n",
        "      <td>  Altstadt</td>\n",
        "      <td>  17.00 </td>\n",
        "      <td>  49432 </td>\n",
        "      <td>  2908</td>\n",
        "    </tr>\n",
        "    <tr>\n",
        "      <th>1</th>\n",
        "      <td> Blasewitz</td>\n",
        "      <td>  14.48 </td>\n",
        "      <td>  79292 </td>\n",
        "      <td>  5476</td>\n",
        "    </tr>\n",
        "    <tr>\n",
        "      <th>2</th>\n",
        "      <td>     Cotta</td>\n",
        "      <td>  19.34 </td>\n",
        "      <td>  65535 </td>\n",
        "      <td>  3389</td>\n",
        "    </tr>\n",
        "    <tr>\n",
        "      <th>3</th>\n",
        "      <td> Klotzsche</td>\n",
        "      <td>  27.10 </td>\n",
        "      <td>  19839 </td>\n",
        "      <td>   732</td>\n",
        "    </tr>\n",
        "    <tr>\n",
        "      <th>4</th>\n",
        "      <td>    Leuben</td>\n",
        "      <td>  13.05 </td>\n",
        "      <td>  37600 </td>\n",
        "      <td>  2881</td>\n",
        "    </tr>\n",
        "  </tbody>\n",
        "</table>\n",
        "</div>"
       ],
       "metadata": {},
       "output_type": "pyout",
       "prompt_number": 5,
       "text": [
        "        Name Fl\u00e4che in km\u00b2 Einwohnerzahl Einwohner je km\u00b2\n",
        "0   Altstadt        17.00         49432              2908\n",
        "1  Blasewitz        14.48         79292              5476\n",
        "2      Cotta        19.34         65535              3389\n",
        "3  Klotzsche        27.10         19839               732\n",
        "4     Leuben        13.05         37600              2881"
       ]
      }
     ],
     "prompt_number": 5
    },
    {
     "cell_type": "markdown",
     "metadata": {},
     "source": [
      "Jetzt noch den Index festlegen (nehmen wir die Namen der Stadtteile) und die Zahlen auch zu Zahlen konvertieren, sind n\u00e4mlich noch Texte, weil wir ja einen Text eingelesen haben."
     ]
    },
    {
     "cell_type": "code",
     "collapsed": false,
     "input": [
      "df.index = df['Name'] # Name als Index\n",
      "df.drop('Name', inplace=True, axis=1) # Daf\u00fcr Name raus werfen\n",
      "df.index.name='Ortsamt' # Index Name umbenennen\n",
      "df = df.convert_objects(convert_numeric=True) # Zahlen konvertieren in Zahlen"
     ],
     "language": "python",
     "metadata": {},
     "outputs": [],
     "prompt_number": 6
    },
    {
     "cell_type": "code",
     "collapsed": false,
     "input": [
      "df.sort()"
     ],
     "language": "python",
     "metadata": {},
     "outputs": [
      {
       "html": [
        "<div style=\"max-height:1000px;max-width:1500px;overflow:auto;\">\n",
        "<table border=\"1\" class=\"dataframe\">\n",
        "  <thead>\n",
        "    <tr style=\"text-align: right;\">\n",
        "      <th></th>\n",
        "      <th>Fl\u00e4che in km\u00b2</th>\n",
        "      <th>Einwohnerzahl</th>\n",
        "      <th>Einwohner je km\u00b2</th>\n",
        "    </tr>\n",
        "    <tr>\n",
        "      <th>Ortsamt</th>\n",
        "      <th></th>\n",
        "      <th></th>\n",
        "      <th></th>\n",
        "    </tr>\n",
        "  </thead>\n",
        "  <tbody>\n",
        "    <tr>\n",
        "      <th>Altfranken</th>\n",
        "      <td>  1.28</td>\n",
        "      <td>  1099</td>\n",
        "      <td>  859</td>\n",
        "    </tr>\n",
        "    <tr>\n",
        "      <th>Altstadt</th>\n",
        "      <td> 17.00</td>\n",
        "      <td> 49432</td>\n",
        "      <td> 2908</td>\n",
        "    </tr>\n",
        "    <tr>\n",
        "      <th>Blasewitz</th>\n",
        "      <td> 14.48</td>\n",
        "      <td> 79292</td>\n",
        "      <td> 5476</td>\n",
        "    </tr>\n",
        "    <tr>\n",
        "      <th>Cossebaude</th>\n",
        "      <td>  8.04</td>\n",
        "      <td>  5324</td>\n",
        "      <td>  662</td>\n",
        "    </tr>\n",
        "    <tr>\n",
        "      <th>Cotta</th>\n",
        "      <td> 19.34</td>\n",
        "      <td> 65535</td>\n",
        "      <td> 3389</td>\n",
        "    </tr>\n",
        "    <tr>\n",
        "      <th>Gompitz</th>\n",
        "      <td> 11.72</td>\n",
        "      <td>  3053</td>\n",
        "      <td>  260</td>\n",
        "    </tr>\n",
        "    <tr>\n",
        "      <th>Klotzsche</th>\n",
        "      <td> 27.10</td>\n",
        "      <td> 19839</td>\n",
        "      <td>  732</td>\n",
        "    </tr>\n",
        "    <tr>\n",
        "      <th>Langebr\u00fcck</th>\n",
        "      <td>  6.95</td>\n",
        "      <td>  3719</td>\n",
        "      <td>  535</td>\n",
        "    </tr>\n",
        "    <tr>\n",
        "      <th>Leuben</th>\n",
        "      <td> 13.05</td>\n",
        "      <td> 37600</td>\n",
        "      <td> 2881</td>\n",
        "    </tr>\n",
        "    <tr>\n",
        "      <th>Loschwitz</th>\n",
        "      <td> 68.84</td>\n",
        "      <td> 19073</td>\n",
        "      <td>  277</td>\n",
        "    </tr>\n",
        "    <tr>\n",
        "      <th>Mobschatz</th>\n",
        "      <td>  8.50</td>\n",
        "      <td>  1481</td>\n",
        "      <td>  174</td>\n",
        "    </tr>\n",
        "    <tr>\n",
        "      <th>Neustadt</th>\n",
        "      <td> 14.85</td>\n",
        "      <td> 40127</td>\n",
        "      <td> 2702</td>\n",
        "    </tr>\n",
        "    <tr>\n",
        "      <th>Oberwartha</th>\n",
        "      <td>  2.03</td>\n",
        "      <td>   355</td>\n",
        "      <td>  175</td>\n",
        "    </tr>\n",
        "    <tr>\n",
        "      <th>Pieschen</th>\n",
        "      <td> 16.20</td>\n",
        "      <td> 46595</td>\n",
        "      <td> 2876</td>\n",
        "    </tr>\n",
        "    <tr>\n",
        "      <th>Plauen</th>\n",
        "      <td> 15.80</td>\n",
        "      <td> 50145</td>\n",
        "      <td> 3174</td>\n",
        "    </tr>\n",
        "    <tr>\n",
        "      <th>Prohlis</th>\n",
        "      <td> 21.10</td>\n",
        "      <td> 54349</td>\n",
        "      <td> 2576</td>\n",
        "    </tr>\n",
        "    <tr>\n",
        "      <th>Sch\u00f6nborn</th>\n",
        "      <td>  5.20</td>\n",
        "      <td>   490</td>\n",
        "      <td>   94</td>\n",
        "    </tr>\n",
        "    <tr>\n",
        "      <th>Sch\u00f6nfeld-Wei\u00dfig</th>\n",
        "      <td> 41.33</td>\n",
        "      <td> 12570</td>\n",
        "      <td>  304</td>\n",
        "    </tr>\n",
        "    <tr>\n",
        "      <th>Weixdorf</th>\n",
        "      <td> 15.49</td>\n",
        "      <td>  5943</td>\n",
        "      <td>  384</td>\n",
        "    </tr>\n",
        "  </tbody>\n",
        "</table>\n",
        "</div>"
       ],
       "metadata": {},
       "output_type": "pyout",
       "prompt_number": 7,
       "text": [
        "                  Fl\u00e4che in km\u00b2  Einwohnerzahl  Einwohner je km\u00b2\n",
        "Ortsamt                                                         \n",
        "Altfranken                 1.28           1099               859\n",
        "Altstadt                  17.00          49432              2908\n",
        "Blasewitz                 14.48          79292              5476\n",
        "Cossebaude                 8.04           5324               662\n",
        "Cotta                     19.34          65535              3389\n",
        "Gompitz                   11.72           3053               260\n",
        "Klotzsche                 27.10          19839               732\n",
        "Langebr\u00fcck                 6.95           3719               535\n",
        "Leuben                    13.05          37600              2881\n",
        "Loschwitz                 68.84          19073               277\n",
        "Mobschatz                  8.50           1481               174\n",
        "Neustadt                  14.85          40127              2702\n",
        "Oberwartha                 2.03            355               175\n",
        "Pieschen                  16.20          46595              2876\n",
        "Plauen                    15.80          50145              3174\n",
        "Prohlis                   21.10          54349              2576\n",
        "Sch\u00f6nborn                  5.20            490                94\n",
        "Sch\u00f6nfeld-Wei\u00dfig          41.33          12570               304\n",
        "Weixdorf                  15.49           5943               384"
       ]
      }
     ],
     "prompt_number": 7
    },
    {
     "cell_type": "heading",
     "level": 2,
     "metadata": {},
     "source": [
      "Ready!"
     ]
    },
    {
     "cell_type": "markdown",
     "metadata": {},
     "source": [
      "![Big Data Borat](BigDataBorat.png)"
     ]
    },
    {
     "cell_type": "heading",
     "level": 2,
     "metadata": {},
     "source": [
      "Darstellungen"
     ]
    },
    {
     "cell_type": "code",
     "collapsed": false,
     "input": [
      "import matplotlib.pyplot as plt\n",
      "from matplotlib import image, patches, colors\n",
      "import mpld3\n",
      "%matplotlib inline"
     ],
     "language": "python",
     "metadata": {},
     "outputs": [],
     "prompt_number": 8
    },
    {
     "cell_type": "markdown",
     "metadata": {},
     "source": [
      "OK, schauen wir uns doch mal die Einwohnerdichte an"
     ]
    },
    {
     "cell_type": "code",
     "collapsed": false,
     "input": [
      "EWjeKM = df.sort(['Einwohner je km\u00b2'])\n",
      "\n",
      "EWjeKM['Einwohner je km\u00b2'].plot(kind='barh', figsize=(5,6))\n",
      "\n",
      "plt.xlabel(u'Einwohner je km\u00b2')\n",
      "plt.tight_layout()\n",
      "plt.savefig('Dresden-Einwohnerjekm2.png', dpi=150)"
     ],
     "language": "python",
     "metadata": {},
     "outputs": [
      {
       "metadata": {},
       "output_type": "display_data",
       "png": "[encoded data removed]",
       "text": [
        "<matplotlib.figure.Figure at 0x1077c5a10>"
       ]
      }
     ],
     "prompt_number": 9
    },
    {
     "cell_type": "markdown",
     "metadata": {},
     "source": [
      "Hm. Vielleicht k\u00f6nnen wir ja noch andere Zusammenh\u00e4nge bekommen"
     ]
    },
    {
     "cell_type": "code",
     "collapsed": false,
     "input": [
      "df.plot(kind='scatter', x='Fl\u00e4che in km\u00b2', y='Einwohnerzahl', s=250, figsize=(12,12))\n",
      "\n",
      "for label, x, y in zip(df.index, df['Fl\u00e4che in km\u00b2'], df['Einwohnerzahl']):\n",
      "    plt.annotate(\n",
      "        label.decode('utf-8'), \n",
      "        xy = (x, y), xytext = (20, -10),\n",
      "        textcoords = 'offset points', ha = 'left', va = 'bottom',\n",
      "        bbox = dict(boxstyle = 'round,pad=0.5', fc = 'w', alpha = 0.5),\n",
      "        arrowprops = dict(arrowstyle = '->', connectionstyle = 'arc3,rad=0'))\n",
      "    \n",
      "plt.tight_layout()\n",
      "plt.savefig('Einwohner-Scatter.png', dpi=150)"
     ],
     "language": "python",
     "metadata": {},
     "outputs": [
      {
       "metadata": {},
       "output_type": "display_data",
       "png": "[encoded data removed]",
       "text": [
        "<matplotlib.figure.Figure at 0x10797e390>"
       ]
      }
     ],
     "prompt_number": 10
    },
    {
     "cell_type": "heading",
     "level": 2,
     "metadata": {},
     "source": [
      "Wie w\u00e4re es mit einer interaktiven Grafik?"
     ]
    },
    {
     "cell_type": "code",
     "collapsed": false,
     "input": [
      "fig, ax = plt.subplots(subplot_kw=dict(axisbg='#EEEEEE'))\n",
      "\n",
      "scatter = ax.scatter(df['Fl\u00e4che in km\u00b2'], # auf der X-Achse\n",
      "                     df['Einwohnerzahl'], # auf der Y-Achse\n",
      "                     alpha=0.8, # Transparenz\n",
      "                     s=100, # Gr\u00f6\u00dfe der Kugeln\n",
      "                     c=df['Einwohnerzahl']/df['Fl\u00e4che in km\u00b2'], # Farbe nach Einwohnerdichte\n",
      "                     cmap=plt.cm.winter_r) # Colormap: Winter\n",
      "ax.grid(color='white', linestyle='solid')\n",
      "\n",
      "ax.set_title(\"Einwohnerdichte Dresdner Stadtteile\", size=20) # Titel\n",
      "ax.set_xlabel(u'Fl\u00e4che in km\u00b2') # X-Beschriftung\n",
      "ax.set_ylabel(u'Einwohnerzahl') # Y-Beschriftung\n",
      "\n",
      "# Jetzt noch ein Mouse-Over Effekt hinzuf\u00fcgen mit den Stadtteilnamen als Labels\n",
      "tooltip = mpld3.plugins.PointLabelTooltip(scatter, labels=df.index.tolist())\n",
      "mpld3.plugins.connect(fig, tooltip)\n",
      "\n",
      "# .html Datei mit allen Infos speichern\n",
      "mpld3.save_html(fig, 'Einwohner-Scatter.html')\n",
      "\n",
      "# und hier anzeigen\n",
      "mpld3.display()"
     ],
     "language": "python",
     "metadata": {},
     "outputs": [
      {
       "html": [
        "\n",
        "\n",
        "<style>\n",
        "\n",
        "</style>\n",
        "\n",
        "<div id=\"fig_el828644224082729044276716\"></div>\n",
        "<script>\n",
        "function mpld3_load_lib(url, callback){\n",
        "  var s = document.createElement('script');\n",
        "  s.src = url;\n",
        "  s.async = true;\n",
        "  s.onreadystatechange = s.onload = callback;\n",
        "  s.onerror = function(){console.warn(\"failed to load library \" + url);};\n",
        "  document.getElementsByTagName(\"head\")[0].appendChild(s);\n",
        "}\n",
        "\n",
        "if(typeof(mpld3) !== \"undefined\" && mpld3._mpld3IsLoaded){\n",
        "   // already loaded: just create the figure\n",
        "   !function(mpld3){\n",
        "       \n",
        "       mpld3.draw_figure(\"fig_el828644224082729044276716\", {\"axes\": [{\"xlim\": [-10.0, 80.0], \"yscale\": \"linear\", \"axesbg\": \"#EEEEEE\", \"texts\": [{\"v_baseline\": \"hanging\", \"h_anchor\": \"middle\", \"color\": \"#000000\", \"text\": \"Fl\\u00e4che in km\\u00b2\", \"coordinates\": \"axes\", \"zorder\": 3, \"alpha\": 1, \"fontsize\": 12.0, \"position\": [0.5, -0.085483870967741932], \"rotation\": -0.0, \"id\": \"el82864422448976\"}, {\"v_baseline\": \"auto\", \"h_anchor\": \"middle\", \"color\": \"#000000\", \"text\": \"Einwohnerzahl\", \"coordinates\": \"axes\", \"zorder\": 3, \"alpha\": 1, \"fontsize\": 12.0, \"position\": [-0.11854838709677419, 0.5], \"rotation\": -90.0, \"id\": \"el82864428182672\"}, {\"v_baseline\": \"auto\", \"h_anchor\": \"middle\", \"color\": \"#000000\", \"text\": \"Einwohnerdichte Dresdner Stadtteile\", \"coordinates\": \"axes\", \"zorder\": 3, \"alpha\": 1, \"fontsize\": 20.0, \"position\": [0.5, 1.0224014336917562], \"rotation\": -0.0, \"id\": \"el82864421833360\"}], \"zoomable\": true, \"images\": [], \"xdomain\": [-10.0, 80.0], \"ylim\": [-10000.0, 90000.0], \"paths\": [], \"sharey\": [], \"sharex\": [], \"axesbgalpha\": null, \"axes\": [{\"scale\": \"linear\", \"tickformat\": null, \"grid\": {\"color\": \"#FFFFFF\", \"alpha\": 1.0, \"dasharray\": \"10,0\", \"gridOn\": true}, \"fontsize\": 10.0, \"position\": \"bottom\", \"nticks\": 10, \"tickvalues\": null}, {\"scale\": \"linear\", \"tickformat\": null, \"grid\": {\"color\": \"#FFFFFF\", \"alpha\": 1.0, \"dasharray\": \"10,0\", \"gridOn\": true}, \"fontsize\": 10.0, \"position\": \"left\", \"nticks\": 7, \"tickvalues\": null}], \"lines\": [], \"markers\": [], \"id\": \"el82864422409616\", \"ydomain\": [-10000.0, 90000.0], \"collections\": [{\"paths\": [[[[0.0, -0.5], [0.13260155, -0.5], [0.25978993539242673, -0.44731684579412084], [0.3535533905932738, -0.3535533905932738], [0.44731684579412084, -0.25978993539242673], [0.5, -0.13260155], [0.5, 0.0], [0.5, 0.13260155], [0.44731684579412084, 0.25978993539242673], [0.3535533905932738, 0.3535533905932738], [0.25978993539242673, 0.44731684579412084], [0.13260155, 0.5], [0.0, 0.5], [-0.13260155, 0.5], [-0.25978993539242673, 0.44731684579412084], [-0.3535533905932738, 0.3535533905932738], [-0.44731684579412084, 0.25978993539242673], [-0.5, 0.13260155], [-0.5, 0.0], [-0.5, -0.13260155], [-0.44731684579412084, -0.25978993539242673], [-0.3535533905932738, -0.3535533905932738], [-0.25978993539242673, -0.44731684579412084], [-0.13260155, -0.5], [0.0, -0.5]], [\"M\", \"C\", \"C\", \"C\", \"C\", \"C\", \"C\", \"C\", \"C\", \"Z\"]]], \"edgecolors\": [\"#EEEEEE\"], \"edgewidths\": [0.5], \"offsets\": \"data01\", \"yindex\": 1, \"id\": \"el82864422041680\", \"pathtransforms\": [[13.88888888888889, 0.0, 0.0, 13.88888888888889, 0.0, 0.0]], \"pathcoordinates\": \"display\", \"offsetcoordinates\": \"data\", \"zorder\": 1, \"xindex\": 0, \"alphas\": [0.8], \"facecolors\": [\"#0079C2\", \"#0000FF\", \"#0062CD\", \"#00E18E\", \"#007BC1\", \"#00F783\", \"#0083BD\", \"#007BC1\", \"#006DC8\", \"#0089BA\", \"#00DB91\", \"#00E48D\", \"#00F883\", \"#00EB89\", \"#00FC81\", \"#00FC81\", \"#00FF7F\", \"#00F684\", \"#00F286\"]}], \"xscale\": \"linear\", \"bbox\": [0.125, 0.125, 0.77500000000000002, 0.77500000000000002]}], \"height\": 400.0, \"width\": 600.0, \"plugins\": [{\"type\": \"reset\"}, {\"enabled\": false, \"button\": true, \"type\": \"zoom\"}, {\"enabled\": false, \"button\": true, \"type\": \"boxzoom\"}, {\"voffset\": 10, \"labels\": [\"Altstadt\", \"Blasewitz\", \"Cotta\", \"Klotzsche\", \"Leuben\", \"Loschwitz\", \"Neustadt\", \"Pieschen\", \"Plauen\", \"Prohlis\", \"Altfranken\", \"Cossebaude\", \"Gompitz\", \"Langebr\\u00fcck\", \"Mobschatz\", \"Oberwartha\", \"Sch\\u00f6nborn\", \"Sch\\u00f6nfeld-Wei\\u00dfig\", \"Weixdorf\"], \"hoffset\": 0, \"location\": \"mouse\", \"type\": \"tooltip\", \"id\": \"el82864422041680\"}], \"data\": {\"data01\": [[17.0, 49432.0], [14.48, 79292.0], [19.34, 65535.0], [27.1, 19839.0], [13.05, 37600.0], [68.84, 19073.0], [14.85, 40127.0], [16.2, 46595.0], [15.8, 50145.0], [21.1, 54349.0], [1.28, 1099.0], [8.04, 5324.0], [11.72, 3053.0], [6.95, 3719.0], [8.5, 1481.0], [2.03, 355.0], [5.2, 490.0], [41.33, 12570.0], [15.49, 5943.0]]}, \"id\": \"el82864422408272\"});\n",
        "   }(mpld3);\n",
        "}else if(typeof define === \"function\" && define.amd){\n",
        "   // require.js is available: use it to load d3/mpld3\n",
        "   require.config({paths: {d3: \"https://mpld3.github.io/js/d3.v3.min\"}});\n",
        "   require([\"d3\"], function(d3){\n",
        "      window.d3 = d3;\n",
        "      mpld3_load_lib(\"https://mpld3.github.io/js/mpld3.v0.2.js\", function(){\n",
        "         \n",
        "         mpld3.draw_figure(\"fig_el828644224082729044276716\", {\"axes\": [{\"xlim\": [-10.0, 80.0], \"yscale\": \"linear\", \"axesbg\": \"#EEEEEE\", \"texts\": [{\"v_baseline\": \"hanging\", \"h_anchor\": \"middle\", \"color\": \"#000000\", \"text\": \"Fl\\u00e4che in km\\u00b2\", \"coordinates\": \"axes\", \"zorder\": 3, \"alpha\": 1, \"fontsize\": 12.0, \"position\": [0.5, -0.085483870967741932], \"rotation\": -0.0, \"id\": \"el82864422448976\"}, {\"v_baseline\": \"auto\", \"h_anchor\": \"middle\", \"color\": \"#000000\", \"text\": \"Einwohnerzahl\", \"coordinates\": \"axes\", \"zorder\": 3, \"alpha\": 1, \"fontsize\": 12.0, \"position\": [-0.11854838709677419, 0.5], \"rotation\": -90.0, \"id\": \"el82864428182672\"}, {\"v_baseline\": \"auto\", \"h_anchor\": \"middle\", \"color\": \"#000000\", \"text\": \"Einwohnerdichte Dresdner Stadtteile\", \"coordinates\": \"axes\", \"zorder\": 3, \"alpha\": 1, \"fontsize\": 20.0, \"position\": [0.5, 1.0224014336917562], \"rotation\": -0.0, \"id\": \"el82864421833360\"}], \"zoomable\": true, \"images\": [], \"xdomain\": [-10.0, 80.0], \"ylim\": [-10000.0, 90000.0], \"paths\": [], \"sharey\": [], \"sharex\": [], \"axesbgalpha\": null, \"axes\": [{\"scale\": \"linear\", \"tickformat\": null, \"grid\": {\"color\": \"#FFFFFF\", \"alpha\": 1.0, \"dasharray\": \"10,0\", \"gridOn\": true}, \"fontsize\": 10.0, \"position\": \"bottom\", \"nticks\": 10, \"tickvalues\": null}, {\"scale\": \"linear\", \"tickformat\": null, \"grid\": {\"color\": \"#FFFFFF\", \"alpha\": 1.0, \"dasharray\": \"10,0\", \"gridOn\": true}, \"fontsize\": 10.0, \"position\": \"left\", \"nticks\": 7, \"tickvalues\": null}], \"lines\": [], \"markers\": [], \"id\": \"el82864422409616\", \"ydomain\": [-10000.0, 90000.0], \"collections\": [{\"paths\": [[[[0.0, -0.5], [0.13260155, -0.5], [0.25978993539242673, -0.44731684579412084], [0.3535533905932738, -0.3535533905932738], [0.44731684579412084, -0.25978993539242673], [0.5, -0.13260155], [0.5, 0.0], [0.5, 0.13260155], [0.44731684579412084, 0.25978993539242673], [0.3535533905932738, 0.3535533905932738], [0.25978993539242673, 0.44731684579412084], [0.13260155, 0.5], [0.0, 0.5], [-0.13260155, 0.5], [-0.25978993539242673, 0.44731684579412084], [-0.3535533905932738, 0.3535533905932738], [-0.44731684579412084, 0.25978993539242673], [-0.5, 0.13260155], [-0.5, 0.0], [-0.5, -0.13260155], [-0.44731684579412084, -0.25978993539242673], [-0.3535533905932738, -0.3535533905932738], [-0.25978993539242673, -0.44731684579412084], [-0.13260155, -0.5], [0.0, -0.5]], [\"M\", \"C\", \"C\", \"C\", \"C\", \"C\", \"C\", \"C\", \"C\", \"Z\"]]], \"edgecolors\": [\"#EEEEEE\"], \"edgewidths\": [0.5], \"offsets\": \"data01\", \"yindex\": 1, \"id\": \"el82864422041680\", \"pathtransforms\": [[13.88888888888889, 0.0, 0.0, 13.88888888888889, 0.0, 0.0]], \"pathcoordinates\": \"display\", \"offsetcoordinates\": \"data\", \"zorder\": 1, \"xindex\": 0, \"alphas\": [0.8], \"facecolors\": [\"#0079C2\", \"#0000FF\", \"#0062CD\", \"#00E18E\", \"#007BC1\", \"#00F783\", \"#0083BD\", \"#007BC1\", \"#006DC8\", \"#0089BA\", \"#00DB91\", \"#00E48D\", \"#00F883\", \"#00EB89\", \"#00FC81\", \"#00FC81\", \"#00FF7F\", \"#00F684\", \"#00F286\"]}], \"xscale\": \"linear\", \"bbox\": [0.125, 0.125, 0.77500000000000002, 0.77500000000000002]}], \"height\": 400.0, \"width\": 600.0, \"plugins\": [{\"type\": \"reset\"}, {\"enabled\": false, \"button\": true, \"type\": \"zoom\"}, {\"enabled\": false, \"button\": true, \"type\": \"boxzoom\"}, {\"voffset\": 10, \"labels\": [\"Altstadt\", \"Blasewitz\", \"Cotta\", \"Klotzsche\", \"Leuben\", \"Loschwitz\", \"Neustadt\", \"Pieschen\", \"Plauen\", \"Prohlis\", \"Altfranken\", \"Cossebaude\", \"Gompitz\", \"Langebr\\u00fcck\", \"Mobschatz\", \"Oberwartha\", \"Sch\\u00f6nborn\", \"Sch\\u00f6nfeld-Wei\\u00dfig\", \"Weixdorf\"], \"hoffset\": 0, \"location\": \"mouse\", \"type\": \"tooltip\", \"id\": \"el82864422041680\"}], \"data\": {\"data01\": [[17.0, 49432.0], [14.48, 79292.0], [19.34, 65535.0], [27.1, 19839.0], [13.05, 37600.0], [68.84, 19073.0], [14.85, 40127.0], [16.2, 46595.0], [15.8, 50145.0], [21.1, 54349.0], [1.28, 1099.0], [8.04, 5324.0], [11.72, 3053.0], [6.95, 3719.0], [8.5, 1481.0], [2.03, 355.0], [5.2, 490.0], [41.33, 12570.0], [15.49, 5943.0]]}, \"id\": \"el82864422408272\"});\n",
        "      });\n",
        "    });\n",
        "}else{\n",
        "    // require.js not available: dynamically load d3 & mpld3\n",
        "    mpld3_load_lib(\"https://mpld3.github.io/js/d3.v3.min.js\", function(){\n",
        "         mpld3_load_lib(\"https://mpld3.github.io/js/mpld3.v0.2.js\", function(){\n",
        "                 \n",
        "                 mpld3.draw_figure(\"fig_el828644224082729044276716\", {\"axes\": [{\"xlim\": [-10.0, 80.0], \"yscale\": \"linear\", \"axesbg\": \"#EEEEEE\", \"texts\": [{\"v_baseline\": \"hanging\", \"h_anchor\": \"middle\", \"color\": \"#000000\", \"text\": \"Fl\\u00e4che in km\\u00b2\", \"coordinates\": \"axes\", \"zorder\": 3, \"alpha\": 1, \"fontsize\": 12.0, \"position\": [0.5, -0.085483870967741932], \"rotation\": -0.0, \"id\": \"el82864422448976\"}, {\"v_baseline\": \"auto\", \"h_anchor\": \"middle\", \"color\": \"#000000\", \"text\": \"Einwohnerzahl\", \"coordinates\": \"axes\", \"zorder\": 3, \"alpha\": 1, \"fontsize\": 12.0, \"position\": [-0.11854838709677419, 0.5], \"rotation\": -90.0, \"id\": \"el82864428182672\"}, {\"v_baseline\": \"auto\", \"h_anchor\": \"middle\", \"color\": \"#000000\", \"text\": \"Einwohnerdichte Dresdner Stadtteile\", \"coordinates\": \"axes\", \"zorder\": 3, \"alpha\": 1, \"fontsize\": 20.0, \"position\": [0.5, 1.0224014336917562], \"rotation\": -0.0, \"id\": \"el82864421833360\"}], \"zoomable\": true, \"images\": [], \"xdomain\": [-10.0, 80.0], \"ylim\": [-10000.0, 90000.0], \"paths\": [], \"sharey\": [], \"sharex\": [], \"axesbgalpha\": null, \"axes\": [{\"scale\": \"linear\", \"tickformat\": null, \"grid\": {\"color\": \"#FFFFFF\", \"alpha\": 1.0, \"dasharray\": \"10,0\", \"gridOn\": true}, \"fontsize\": 10.0, \"position\": \"bottom\", \"nticks\": 10, \"tickvalues\": null}, {\"scale\": \"linear\", \"tickformat\": null, \"grid\": {\"color\": \"#FFFFFF\", \"alpha\": 1.0, \"dasharray\": \"10,0\", \"gridOn\": true}, \"fontsize\": 10.0, \"position\": \"left\", \"nticks\": 7, \"tickvalues\": null}], \"lines\": [], \"markers\": [], \"id\": \"el82864422409616\", \"ydomain\": [-10000.0, 90000.0], \"collections\": [{\"paths\": [[[[0.0, -0.5], [0.13260155, -0.5], [0.25978993539242673, -0.44731684579412084], [0.3535533905932738, -0.3535533905932738], [0.44731684579412084, -0.25978993539242673], [0.5, -0.13260155], [0.5, 0.0], [0.5, 0.13260155], [0.44731684579412084, 0.25978993539242673], [0.3535533905932738, 0.3535533905932738], [0.25978993539242673, 0.44731684579412084], [0.13260155, 0.5], [0.0, 0.5], [-0.13260155, 0.5], [-0.25978993539242673, 0.44731684579412084], [-0.3535533905932738, 0.3535533905932738], [-0.44731684579412084, 0.25978993539242673], [-0.5, 0.13260155], [-0.5, 0.0], [-0.5, -0.13260155], [-0.44731684579412084, -0.25978993539242673], [-0.3535533905932738, -0.3535533905932738], [-0.25978993539242673, -0.44731684579412084], [-0.13260155, -0.5], [0.0, -0.5]], [\"M\", \"C\", \"C\", \"C\", \"C\", \"C\", \"C\", \"C\", \"C\", \"Z\"]]], \"edgecolors\": [\"#EEEEEE\"], \"edgewidths\": [0.5], \"offsets\": \"data01\", \"yindex\": 1, \"id\": \"el82864422041680\", \"pathtransforms\": [[13.88888888888889, 0.0, 0.0, 13.88888888888889, 0.0, 0.0]], \"pathcoordinates\": \"display\", \"offsetcoordinates\": \"data\", \"zorder\": 1, \"xindex\": 0, \"alphas\": [0.8], \"facecolors\": [\"#0079C2\", \"#0000FF\", \"#0062CD\", \"#00E18E\", \"#007BC1\", \"#00F783\", \"#0083BD\", \"#007BC1\", \"#006DC8\", \"#0089BA\", \"#00DB91\", \"#00E48D\", \"#00F883\", \"#00EB89\", \"#00FC81\", \"#00FC81\", \"#00FF7F\", \"#00F684\", \"#00F286\"]}], \"xscale\": \"linear\", \"bbox\": [0.125, 0.125, 0.77500000000000002, 0.77500000000000002]}], \"height\": 400.0, \"width\": 600.0, \"plugins\": [{\"type\": \"reset\"}, {\"enabled\": false, \"button\": true, \"type\": \"zoom\"}, {\"enabled\": false, \"button\": true, \"type\": \"boxzoom\"}, {\"voffset\": 10, \"labels\": [\"Altstadt\", \"Blasewitz\", \"Cotta\", \"Klotzsche\", \"Leuben\", \"Loschwitz\", \"Neustadt\", \"Pieschen\", \"Plauen\", \"Prohlis\", \"Altfranken\", \"Cossebaude\", \"Gompitz\", \"Langebr\\u00fcck\", \"Mobschatz\", \"Oberwartha\", \"Sch\\u00f6nborn\", \"Sch\\u00f6nfeld-Wei\\u00dfig\", \"Weixdorf\"], \"hoffset\": 0, \"location\": \"mouse\", \"type\": \"tooltip\", \"id\": \"el82864422041680\"}], \"data\": {\"data01\": [[17.0, 49432.0], [14.48, 79292.0], [19.34, 65535.0], [27.1, 19839.0], [13.05, 37600.0], [68.84, 19073.0], [14.85, 40127.0], [16.2, 46595.0], [15.8, 50145.0], [21.1, 54349.0], [1.28, 1099.0], [8.04, 5324.0], [11.72, 3053.0], [6.95, 3719.0], [8.5, 1481.0], [2.03, 355.0], [5.2, 490.0], [41.33, 12570.0], [15.49, 5943.0]]}, \"id\": \"el82864422408272\"});\n",
        "            })\n",
        "         });\n",
        "}\n",
        "</script>"
       ],
       "metadata": {},
       "output_type": "pyout",
       "prompt_number": 11,
       "text": [
        "<IPython.core.display.HTML at 0x1079b0550>"
       ]
      }
     ],
     "prompt_number": 11
    },
    {
     "cell_type": "markdown",
     "metadata": {},
     "source": [
      "Und in dieser .html ist jetzt ein Teil JavaScript:\n",
      "\n",
      "```\n",
      "<script>\n",
      "...\n",
      "</script>\n",
      "```\n",
      "\n",
      "und ein Teil HTML:\n",
      "\n",
      "```\n",
      "<div ...\n",
      "```\n",
      "\n",
      "Einfach alles in die Webseite einf\u00fcgen. Das `<div>` wird vom JavaScript durch die Grafik ersetzt."
     ]
    },
    {
     "cell_type": "markdown",
     "metadata": {},
     "source": [
      "![](http://triadstrategies.typepad.com/.a/6a0120a6abf659970b0162fde3889c970d-pi)"
     ]
    },
    {
     "cell_type": "code",
     "collapsed": false,
     "input": [],
     "language": "python",
     "metadata": {},
     "outputs": []
    }
   ],
   "metadata": {}
  }
 ]
}